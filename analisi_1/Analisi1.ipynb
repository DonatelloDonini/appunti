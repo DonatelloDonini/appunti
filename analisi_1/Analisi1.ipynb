{
 "cells": [
  {
   "cell_type": "markdown",
   "metadata": {},
   "source": [
    "# Analisi 1"
   ]
  },
  {
   "cell_type": "markdown",
   "metadata": {
    "vscode": {
     "languageId": "plaintext"
    }
   },
   "source": [
    "## Teoria degli insiemi"
   ]
  },
  {
   "cell_type": "markdown",
   "metadata": {},
   "source": [
    "### Prime definizioni\n",
    "Un insieme è un gruppo **non ordinato** di elementi **non ripetuti**"
   ]
  },
  {
   "cell_type": "markdown",
   "metadata": {},
   "source": [
    "### Come rappresentare gli insiemi\n",
    "\n",
    "1. Elencando gli elementi al suo interno:\\\n",
    "`<nome_insieme>={<elementi_separati_da_una_virgola>}`\\\n",
    "\\\n",
    "Esempio:\\\n",
    "$A= \\{1, 2, 3\\}$\n",
    "\n",
    "1. Definendo una proprietà comune a tutti gli elementi dell'insieme:\\\n",
    "`<nome_insieme>={<proprieta>}`\\\n",
    "\\\n",
    "Esempio:\\\n",
    "A= {tutti i numeri pari}\\\n",
    "\\\n",
    "**Attenzione**:\\\n",
    "La maggior parte delle volte (anche per questioni di pulizia), non viene specificata una proprietà in termini testuali, piuttosto in termini matematici.\\\n",
    "\\\n",
    "Esempio:\\\n",
    "$A= \\{2x \\mid x \\in \\mathbb{Z}\\}$"
   ]
  },
  {
   "cell_type": "markdown",
   "metadata": {},
   "source": [
    "### Sottoinsiemi\n",
    "\n",
    "1. Sottoinsieme:\\\n",
    "\\<nome_insieme_1> $\\subseteq$ \\<nome_insieme_2>\\\n",
    "In questo caso `<nome_insieme_2>` contiene `<nome_insieme_1>` e potrebbe essere uguale ad esso.\n",
    "\\\n",
    "Esempio:\\\n",
    "$A \\subseteq B$\n",
    "\n",
    "1. Sottoinsieme stretto:\\\n",
    "\\<nome_insieme_1> $\\subset$ \\<nome_insieme_2>\\\n",
    "In questo caso `<nome_insieme_2>` contiene `<nome_insieme_1>` ma non è mai uguale ad esso.\n",
    "\\\n",
    "Esempio:\n",
    "$A \\subset B$\n",
    "\n",
    "**Attenzione:**\\\n",
    "Questi simboli si possono usare solo comparando insiemi.\\\n",
    "La scrittura $9 \\subseteq \\{7, 8, 9\\}$ è sbagliata, la scrittura giusta è $\\{9\\} \\subseteq \\{7, 8, 9\\}$.\\\n",
    "Per indicare la presenza o meno di un elemento in un insieme si utilizza il sumbolo di appartenenza ($\\in$|$\\notin$)."
   ]
  },
  {
   "cell_type": "markdown",
   "metadata": {},
   "source": [
    "### Operazioni sugli insiemi\n",
    "\n",
    "1. Unione tra insiemi:\\\n",
    "\\<nome_insieme_1> $\\cup$ \\<nome_insieme_2>\\\n",
    "\\\n",
    "Esempio:\\\n",
    "$A= \\{1, 2, 3\\} \\\\B= \\{2, 3, 4\\}\\\\A \\cup B= \\{1, 2, 3, 4\\}$\n",
    "\n",
    "1. Intersezione tra insiemi:\\\n",
    "\\<nome_insieme_1> $\\cap$ \\<nome_insieme_2>\\\n",
    "\\\n",
    "Esempio:\\\n",
    "$A= \\{1, 2, 3\\}\\\\B= \\{2, 3, 4\\}\\\\A \\cap B= \\{2, 3\\}$\n",
    "\n",
    "1. Differenza tra insiemi:\\\n",
    "\\<nome_insieme_1> $\\setminus$ \\<nome_insieme_2>\\\n",
    "\\\n",
    "Esempio:\\\n",
    "$A= \\{1, 2, 3\\}\\\\B= \\{2, 3, 4\\}\\\\A \\setminus B= \\{1\\}$\n",
    "\n",
    "1. Prodotto cartesiano di insiemi:\\\n",
    "\\<nome_insieme_1> $\\times$ <nome_insieme_2>\\\n",
    "\\\n",
    "Esempio:\\\n",
    "$A= \\{5, c\\}$\\\n",
    "$B= \\{1, 2, 3\\}$\\\n",
    "$A \\times B= \\{(5, 1), (5, 2), (5, 3), (c, 1), (c, 2), (c, 3)\\}$\\\n",
    "\\\n",
    "**Attenzione:**\\\n",
    "Se si calcola il prodotto cartesiano di un insieme non vuoto e di un insieme vuoto, il prodotto è sempre un insieme vuoto."
   ]
  },
  {
   "cell_type": "markdown",
   "metadata": {
    "vscode": {
     "languageId": "plaintext"
    }
   },
   "source": [
    "### Insieme delle parti di un insieme\n",
    "Dato un insieme A si dice **insieme delle parti** di A l'insieme costituito da tutit i sottoinsiemi di A.\\\n",
    "\\\n",
    "Esempio:\\\n",
    "$A= \\{k, 9\\}\\\\P(A)= \\{B : B \\subseteq A\\}\\\\P(A)= \\{\\emptyset, A, \\{k\\}, \\{9\\}\\}$"
   ]
  },
  {
   "cell_type": "markdown",
   "metadata": {},
   "source": [
    "### Cardinalità di un insieme\n",
    "$\\left| A \\right|$= numero di elementi di $A$"
   ]
  },
  {
   "cell_type": "markdown",
   "metadata": {},
   "source": [
    "### Cardinalità dell'insieme delle parti di un insieme\n",
    "Per calcolare la cardinalità dell'insieme delle parti di un insieme, si usa la seguente formula:\\\n",
    "$k= \\left| A \\right|$\\\n",
    "$\\left| P(A) \\right| = 2^{k}$\\\n",
    "\\\n",
    "Esercizio:\\\n",
    "$\\left| P(P(P(\\empty))) \\right|= ?$\\\n",
    "\\\n",
    "Soluzione:\\\n",
    "$\\left| P(P(\\{\\empty\\})) \\right|= $\\\n",
    "$\\left| P(\\{\\empty, \\{\\empty\\}\\}) \\right|= $\\\n",
    "$\\left| \\{\\empty, \\{\\empty, \\{\\empty\\}\\}\\} \\right|= $\\\n",
    "$4$"
   ]
  },
  {
   "cell_type": "markdown",
   "metadata": {},
   "source": [
    "### Insiemi Numerici\n",
    "$\\mathbb{N}= \\{0, 1, 2, 3, ...\\}$ &rarr; Numeri naturali (interi positivi)\\\n",
    "$\\mathbb{Z}= \\{-1, 0, 1, ...\\}$ &rarr; Numeri relativi (interi)\\\n",
    "$\\mathbb{Q}= \\{-1, \\frac{1}{3}, \\frac{3}{4}, 1, 2, ...\\}$ &rarr; Numeri razionali (interi + frazionari)\\\n",
    "$\\mathbb{R}= \\{0, 1, 2, 3, ...\\}$ &rarr; Numeri reali (interi + frazionari + irrazionali, come $\\pi$, $\\sqrt{2}$)\\\n",
    "$\\mathbb{C}= \\{0, 1, 2, 3, ...\\}$ &rarr; Numeri complessi\n",
    "\n",
    "**Attenzione:**\\\n",
    "Fanno parte dei numeri razinonali tutti i numeri che si possono rappresentare come una frazione di due numeri.\\\n",
    "Un numero, per essere considerato irrazionale, non basta che abbia un numero di cifre infinito dopo la virgola, deve non poter essere rappresentato come frazione."
   ]
  },
  {
   "cell_type": "markdown",
   "metadata": {},
   "source": [
    "### Assiomi nei numeri reali\n",
    "1. $\\forall a \\in \\mathbb{R} \\quad \\exists! b \\in \\mathbb{R}: \\quad a+b=0 \\implies b= -a$\n",
    "\n",
    "#### Somma\n",
    "1. $a+b= b+a \\quad \\forall a, b \\in \\mathbb{R}$\n",
    "1. $a+(b+c)= (a+b)+c \\quad \\forall a, b, c \\in \\mathbb{R}$\n",
    "1. $\\forall a \\in \\mathbb{R} \\quad \\exists ! 0 \\in \\mathbb{R}: \\quad a+0= a \\quad$\n",
    "\n",
    "#### Prodotto\n",
    "1. $a \\cdot b= b \\cdot a \\quad \\forall a, b \\in \\mathbb{R}$\n",
    "1. $a \\cdot (b \\cdot c)= (a \\cdot b) \\cdot c \\quad \\forall a, b, c \\in \\mathbb{R}$\n",
    "1. $\\forall a \\in \\mathbb{R} \\quad \\exists ! 1 \\in \\mathbb{R}: \\quad a \\cdot 1 = a$\n",
    "1. $\\forall a \\in \\mathbb{R}, a \\neq 0 \\quad \\exists b \\in \\mathbb{R}: \\quad a \\cdot b= 1 \\implies b= \\frac{1}{a}$\n",
    "1. $a \\cdot (b+c) = a \\cdot b + a \\cdot c$\n",
    "\n",
    "#### Ordinamento\n",
    "1. $x \\leq y \\vee y \\leq x \\quad \\forall x, y \\in \\mathbb{R}$\n",
    "1. $x \\leq x$\n",
    "1. Se $x \\leq y \\wedge y \\leq z \\implies x \\leq z$\n",
    "1. Se $x \\leq y \\wedge y \\leq x \\implies x = z$\n",
    "\n",
    "#### Ordinamento e operazioni\n",
    "1. Se $x \\leq y \\implies x+z \\leq y+z$\n",
    "1. Se $x \\leq y \\implies x \\cdot z \\leq y \\cdot z \\quad \\forall z \\in \\mathbb{R}, z \\geq 0$\n",
    "1. Se $x \\leq y \\implies y \\cdot z \\leq x \\cdot z \\quad \\forall z \\in \\mathbb{R}, z \\leq 0$"
   ]
  },
  {
   "cell_type": "markdown",
   "metadata": {},
   "source": [
    "### Massimio e Minimo\n",
    "1. Massimo &rarr; numero più grande di un insieme\n",
    "1. Minimo &rarr; numero più piccolo di un insieme"
   ]
  },
  {
   "cell_type": "markdown",
   "metadata": {},
   "source": [
    "### Intervalli\n",
    "Il massimo e minimo possono esistere, quando esisono sono unici (possono coesistere)\\\n",
    "\\\n",
    "**Esempio:**\\\n",
    "$A= \\{x \\in \\mathbb{R} : 0 \\leq x \\lt 1\\} = [0, 1)$\n",
    "- Il massimo non esiste.\n",
    "- Il miinimo esiste, ed è 0."
   ]
  },
  {
   "cell_type": "markdown",
   "metadata": {},
   "source": [
    "### Naggioranti e Minoranti\n",
    "Sia $A \\subseteq \\mathbb{R}$ non vuoto.\\\n",
    "Si dice che $b \\in \\mathbb{R}$ è maggiorante di A se $b \\leq a \\quad \\forall a \\in A$\n",
    "\n",
    "**Note:**\n",
    "1. I maggioranti e i minoranti non esistono sempre.\n",
    "1. Se esistono, sono infiniti.\n",
    "\n",
    "**Esempio:**\\\n",
    "$A = (0, 1)$\\\n",
    "I maggioranti sono tutti i numeri $\\in$ R maggiori di 1\\\n",
    "I maggioranti sono tutti i numeri $\\in$ R minori di 0"
   ]
  },
  {
   "cell_type": "markdown",
   "metadata": {},
   "source": [
    "### Estremo superiore ed estremo inferiore\n",
    "Sia $A \\subseteq \\mathbb{R}$ non $\\empty$\\\n",
    "Se A non è limitato superioremente, allora si pone sup(A)= +$\\infty$, altrimenti si pone sup(A)= minimo dei maggioranti.\\\n",
    "Viceversa per l'estremo inferiore."
   ]
  },
  {
   "cell_type": "markdown",
   "metadata": {},
   "source": [
    "### Teorema\n",
    "Se $A \\subseteq \\mathbb{R}$ non vuoto, allora l'estremo superiore ed inferiore di $A$ esistono sempre.\\\n",
    "Supponiamo che $A$ sia limitato superiormente.\\\n",
    "Consideriamo l'insieme $B$ di tutti i suoi maggioranti.\\\n",
    "Per definizione $A$ giacce \"a sinistra\" (prima) di $B$.\\\n",
    "Per l'assioma di continuità esiste almeno un $c \\in \\mathbb{R}$ tale che $a \\leq c \\quad \\forall a \\in A$ &rarr; c è maggiorante di $A$ &rarr; $c \\in B$ &rarr; c è il minimo dei maggioranti, quindi per definizione c è l'estremo superiore di A."
   ]
  },
  {
   "cell_type": "markdown",
   "metadata": {},
   "source": [
    "### Estremi superiori e inferiori\n",
    "Sia $A \\subseteq \\mathbb{R}$ non $\\empty$\n",
    "* Se $A$ non limitato superiormente $\\implies sup(A) = +\\infty$\n",
    "* Se $A$ non limitato inferiormente $\\implies sup(A) = -\\infty$\n",
    "* Se $A$ è limitato superiormente $\\implies sup(A) = min(maggioranti)$\n",
    "* Se $A$ è limitato inferiormente $\\implies sup(A) = max(minoranti)$\n",
    "\n",
    "**Osservazioni:**\n",
    "1. L'estremo superiore e inferiore esistono sempre\n",
    "1. Sono unici\n",
    "1. Se esiste $max(A) = M \\implies sup(A)$\n",
    "1. Se esiste $min(A) = m \\implies inf(A)$\n",
    "1. $sup(A)/inf(A)$ non sono necessariamente elementi di $A$"
   ]
  },
  {
   "cell_type": "markdown",
   "metadata": {},
   "source": [
    "### Caratterizzazioni estremo superiore ed estremo inferiore\n",
    "Dato $A$ un insieme non $\\empty$\n",
    "* L'estremo superiore di $A$ è $+\\infty$ se e solo se $\\forall M \\in \\mathbb{R} \\quad \\exists a \\in A : a \\geq M$.\n",
    "* L'estremo inferiore di $A$ è $-\\infty$ se e solo se $\\forall m \\in \\mathbb{R} \\quad \\exists a \\in A : a \\leq m$.\n",
    "\n",
    "Per convenzione si dice che l'estremo superiore dell'insieme vuoto è $-\\infty$\n",
    "\n",
    "* L'estremo superiore di $A$ è $L \\in \\mathbb{R}$ se e solo se $\\forall \\epsilon > 0 \\quad \\exists a \\in A : L-\\epsilon \\leq a < L$ con $\\epsilon$ arbitrariamente piccolo.\n",
    "* L'estremo inferiore di $A$ è $L \\in \\mathbb{R}$ se e solo se $\\forall \\epsilon > 0 \\quad \\exists a \\in A : L \\leq a < L+\\epsilon$ con $\\epsilon$ arbitrariamente piccolo."
   ]
  },
  {
   "cell_type": "markdown",
   "metadata": {},
   "source": [
    "### Principio di induzione\n",
    "Il principio di induzione riguarda proprietà matematiceh che dipendono dalla scleta di un parametro che appartiente a $\\mathbb{N}$.\\\n",
    "$P_n \\quad n \\in \\mathbb{N}$ e a seconda del valore di $n$ può essere vera o falsa.\n",
    "\n",
    "**Esempio:**\\\n",
    "Proposizione $(n+1)^2=n^2+2n+1$ vera $\\forall n \\in \\mathbb{N}$\n",
    "\n",
    "**Ipotesi del principio di induzione:**\n",
    "* $P_0$ è vera\n",
    "* Se $P_n$ è vera $\\implies P_{n+1}$ è vera\n",
    "\n",
    "**Tesi:**\\\n",
    "$P_n$ è vera $\\forall n \\in \\mathbb{N}$\n",
    "\n",
    "**Passo base:**\\\n",
    "$P_0$\n",
    "\n",
    "**Passo induttivo:**\\\n",
    "$P_{n+1}$"
   ]
  },
  {
   "cell_type": "markdown",
   "metadata": {
    "vscode": {
     "languageId": "plaintext"
    }
   },
   "source": [
    "## I numeri complessi"
   ]
  },
  {
   "cell_type": "markdown",
   "metadata": {},
   "source": [
    "I numeri complessi sono un sovrainsieme dei reali.\\\n",
    "$\\mathbb{R} \\subset \\mathbb{C}$\n",
    "\n",
    "$x^2 = 2 \\quad \\mathbb{Q} \\implies \\mathbb{R}$\n",
    "\n",
    "$x^2 + 1 = 0 \\quad \\mathbb{R} \\implies \\mathbb{C}$\n",
    "\n",
    "I numeri complessi, anche detti immaginari, sono una costituente fondamentale della natura (non sono inventati, esistono ed è stato provato)."
   ]
  },
  {
   "cell_type": "markdown",
   "metadata": {},
   "source": [
    "### Proprietà dell'unità immaginaria\n",
    "\n",
    "L'unità immaginaria, comunemente rappresentata dal simbolo $i$.\\\n",
    "Ha la proprietà di rappresentare la radice di -1.\\\n",
    "Infatti: $i^2= -1$"
   ]
  },
  {
   "cell_type": "markdown",
   "metadata": {},
   "source": [
    "### Rappresentazione dei numeri complessi"
   ]
  },
  {
   "attachments": {
    "image.png": {
     "image/png": "[encoded data removed]"
    }
   },
   "cell_type": "markdown",
   "metadata": {},
   "source": [
    "#### Cartesiana\n",
    "\n",
    "La rappresentazione cartesiana di un numero complesso $z$ è la seguente:\n",
    "$$\n",
    "z= x + iy\n",
    "$$\n",
    "\n",
    "Dove:\\\n",
    "$x$ &rarr; Coefficiente reale.\\\n",
    "$i$ &rarr; Unità immaginaria.\\\n",
    "$y$ &rarr; Coefficiente immaginario.\n",
    "\n",
    "La proprietà di $i$ è il fatto che il suo quadrato è $-1$.\\\n",
    "$i^2 = -1$\n",
    "\n",
    "$x = Re(z)$ &rarr; \"x\" è la parte reale di z\\\n",
    "$y = Im(z)$ &rarr; \"y\" è la parte immaginaria di z\n",
    "\n",
    "**Nota:**\\\n",
    "$y$, pur essendo la parte immaginaria di $z$, è un numero _reale_.\n",
    "\n",
    "**Esempio:**\\\n",
    "$z= -3+5i$\\\n",
    "$z= \\pi+e^{\\sqrt{33}}i$\n",
    "\n",
    "**La rappresentazione sul piano cartesiano:**\\\n",
    "Piano di Argan-Gauss\n",
    "\n",
    "![image.png](attachment:image.png)\n",
    "\n",
    "$\\forall z \\in \\mathbb{C}$ è possibile associare a $z$ un vettore.\n",
    "\n",
    "Questo vuol dire che le stesse opreazioni che si fanno con i vettori si possono riscontrare con i numeri complessi:\n",
    "* **Somma e Differenza:**\\\n",
    "La somma di due numeri complessi può essere rappresentata sul piano cartesiano come la somma di due vettori, la \"regola del parallelogramma\" funziona in maniera analoga\n",
    "\n",
    "**Operazioni cartesiane con i numeri complessi:**\n",
    "* Somma e differenza:\\\n",
    "$\\forall z, w \\in \\mathbb{C}$\\\n",
    "$z= a + bi$\\\n",
    "$w= c + di$\\\n",
    "$z \\pm w = (a+bi) \\pm (c+di)$\\\n",
    "$z \\pm w = (a \\pm c) \\pm i \\cdot (b \\pm d)$\\\n",
    "\\\n",
    "In pratica si sommano o si sottraggono le parti reali con le parti reali e quelle immaginarie con quelle immaginarie.\n",
    "* Prodotto:\\\n",
    "$z \\cdot w = (a + bi) \\cdot (c + di)$\\\n",
    "$z \\cdot w = ac+ adi + bci -bd$\\\n",
    "$z \\cdot w = (ac - bd) + i(ad + bc)$\\\n",
    "\\\n",
    "In pratica si usa lo stesso approccio che si usa per i numeri reali $(a+b)^2 = a^2 + 2ab + b^2$\\\n",
    "La parte \"difficile\" è ricordarsi che $i^2 = -1$, è per questo che l'ultimo membro del polinomio ha segno $-$\n",
    "* Divisione:\\\n",
    "$\\frac{z}{w} = z \\cdot (\\frac{1}{w})$\\\n",
    "\\\n",
    "$\\frac{1}{z} = (\\frac{1}{a+bi})$\\\n",
    "\\\n",
    "$\\frac{1}{z} = (\\frac{1}{a+bi}) \\cdot (\\frac{a-bi}{a-bi})$\\\n",
    "\\\n",
    "$\\frac{1}{z} = (\\frac{a-bi}{a^2 + b^2})$\\\n",
    "\\\n",
    "$\\frac{1}{z} = \\frac{a}{a^2 + b^2} - \\frac{b}{a^2 + b^2} \\cdot i$\n",
    "\n",
    "**Osservazione:**\n",
    "* L'elemento neutro rispetto alla somma e alla differenza nei $\\mathbb{C}$ è $0 \\in \\mathbb{C} \\quad z \\pm 0 = z \\quad \\forall z \\in \\mathbb{C}$\n",
    "* Opposto $z \\in \\mathbb{C} \\quad z+w = 0 \\quad w = -z$\\\n",
    "In pratica per fare l' opposto di un numero complesso, basta moltiplicare per $-1$ il coefficiente della $x$ e della $y$\\\n",
    "Esempio: $(z = x + iy) \\cdot -1 = (z = -x - iy)$"
   ]
  },
  {
   "cell_type": "markdown",
   "metadata": {},
   "source": [
    "#### Trigonometrica\n",
    "\n",
    "La forma trignonometrica di un numero complesso $z$ è la seguente:\n",
    "$$\n",
    "z= \\rho (\\cos{\\theta} + i \\sin{\\theta})\n",
    "$$\n",
    "\n",
    "Dove:\\\n",
    "$\\rho$ &rarr; Modulo del vettore rappresentato da $z$.\\\n",
    "$\\theta$ &rarr; Angolo del vettore rappresentato da $z$.\\\n",
    "$i$ &rarr; Unità immaginaria.\n",
    "\n"
   ]
  },
  {
   "cell_type": "markdown",
   "metadata": {},
   "source": [
    "#### Esponenziale (Euleriana)\n",
    "\n",
    "La forma esponenziale (o euleriana) di un numero complesso $z$ è la seguente:\n",
    "$$\n",
    "z= \\rho e^{i \\theta}\n",
    "$$\n",
    "\n",
    "Dove:\\\n",
    "$\\rho$ &rarr; Il modulo del numero complesso z.\\\n",
    "$e$ &rarr; La costante di Eulero.\\\n",
    "$i$ &rarr; L'unità immaginaria.\\\n",
    "$\\theta$ &rarr; L'angolo del vettore rispetto all'asse x (per convenzione man mano che l'angolo cresce, si gira in senso antiorario)."
   ]
  },
  {
   "cell_type": "markdown",
   "metadata": {},
   "source": [
    "### Come convertire da una rappresentazione all'altra"
   ]
  },
  {
   "attachments": {
    "image-2.png": {
     "image/png": "[encoded data removed]"
    },
    "image.png": {
     "image/png": "[encoded data removed]"
    }
   },
   "cell_type": "markdown",
   "metadata": {},
   "source": [
    "#### Cartesiana $\\iff$ Esponenziale\n",
    "\n",
    "Per passare dalla forma cartesiana di un numero complesso ($z= a + bi$) alla sua relativa rappresentazione esponenziale ($z= \\rho e^{i\\theta}$), i passaggi sono i seguenti:\n",
    "\n",
    "Si calcola $\\rho$\n",
    "\n",
    "$\\rho= \\sqrt{a^2+b^2}$\n",
    "\n",
    "Il motivo di questa formula è facilmente intuibile: è il teorema di pitagora per trovare la lunghezza del vettore associato.\n",
    "\n",
    "Si calcola $\\theta$\n",
    "\n",
    "$\\theta= \\arctan{\\left(\\frac{b}{a}\\right)}$\n",
    "\n",
    "Questa formula sta calcolando l'angolo $\\theta$ associato a $z$ calcolando prima la tangente (il rapporto tra seno e coseno di un vettore non cambia mai al variare della lunghezza del suo modulo) e poi il suo angolo associato.\n",
    "\n",
    "**Casi particolari:**\\\n",
    "Esistono una serie di casi particolari da tenere in considerazione quando si converte da un sistema all'altro:\n",
    "\n",
    "1. $a= 0$ &rarr; Parte reale uguale a zero.\\\n",
    "Quando la parte reale è uguale a zero, applicando la formula illustrata sopra, non si arriva a nessuna soluzione (divisione per `0`).\\\n",
    "La soluzione però esiste, lo si intuisce quando si prova a rappresentare sul piano:\\\n",
    "\\\n",
    "![image-2.png](attachment:image-2.png)\\\n",
    "\\\n",
    "Da questo esempio si possono estrarre due casistiche:\n",
    "    - Quando la parte reale è nulla e quella immaginaria è positiva, l'angolo è $+\\frac{\\pi}{2}$\n",
    "    - Quando la parte reale è nulla e quella immaginaria è negativa, l'angolo è $-\\frac{\\pi}{2}$\n",
    "1. $a< 0$ &rarr; parte reale negativa.\\\n",
    "Quando la parte reale è negativa, si va a finire nel secondo e nel terzo quadrante, ma la tangente trova solamente soluzioni nel primo e nel quarto quadrante.\\\n",
    "Anche in questo caso è intuitivo il motivo, se si rappresenta la situazione:\\\n",
    "\\\n",
    "![image.png](attachment:image.png)\\\n",
    "Quando si presenta questa casistica, basta aggiungere (o sottrarre) $\\pi$ per trovare l'angolo $\\theta$ corretto.\n",
    "\n",
    "Per passare dalla forma esponenziale a quella cartesiana invece i passaggi sono i seguenti:\n",
    "1. Bisogna prima passare dalla forma trigonometrica\n",
    "$$\n",
    "\\begin{align*}\n",
    "& z= \\rho \\cdot e^{i\\theta}\\\\\n",
    "& z= \\rho \\cdot \\left(\\cos{\\theta} + i \\sin{\\theta}\\right)\\\\\n",
    "& z= \\rho \\cdot \\cos{\\theta} + \\rho \\cdot i \\sin{\\theta}\\\\\n",
    "\\end{align*}\n",
    "$$\n",
    "\n",
    "Da qui in poi non si fa altro che risolvere i calcoli e trovare la forma cartesiana."
   ]
  },
  {
   "cell_type": "code",
   "execution_count": null,
   "metadata": {},
   "outputs": [],
   "source": [
    "### CARTESIAN TO EXPONENTIAL CONVERTER\n",
    "\n",
    "import math\n",
    "\n",
    "print(\"\"\"\n",
    "This program converts a complex number in its cartesian representation to its exponential one.\n",
    "Consider the form z= x + iy\n",
    "\"\"\")\n",
    "\n",
    "x= float(input(\"Insert x: \"))\n",
    "y= float(input(\"insert y: \"))\n",
    "\n",
    "rho= math.sqrt(x**2 + y**2)\n",
    "\n",
    "if (x> 0):\n",
    "    theta= math.atan(y/x)\n",
    "elif (x== 0):\n",
    "    if (y> 0):\n",
    "        theta= math.pi/2\n",
    "    elif (y== 0):\n",
    "        theta= 0\n",
    "    else:\n",
    "        theta= math.pi/2\n",
    "else:\n",
    "    theta= math.atan(y/x)\n",
    "    theta+= math.pi\n",
    "\n",
    "print(f\"rho= {rho}\")\n",
    "print(f\"theta= {theta}\")\n",
    "print(f\"z = {rho} e^{theta}i\")"
   ]
  },
  {
   "cell_type": "code",
   "execution_count": null,
   "metadata": {},
   "outputs": [],
   "source": [
    "### EXPONENTIAL TO CARTESIAN CONVERTER\n",
    "import math\n",
    "\n",
    "print(\"\"\"\n",
    "This program converts complex numbers from their exponential form to to the cartesian one.\n",
    "Consider the z= r * e^(i*theta)\n",
    "\"\"\")\n",
    "r= float(input(\"Insert r:\"))\n",
    "theta= float(input(\"Insert theta:\"))\n",
    "\n",
    "real_coefficient= r*math.cos(theta)\n",
    "immaginary_coefficient= r*math.sin(theta)\n",
    "\n",
    "print(f\"Re(z)= {real_coefficient}\")\n",
    "print(f\"Im(z)= {immaginary_coefficient}\")\n",
    "print(f\"z= {real_coefficient} {'+' if immaginary_coefficient>=0 else ''}{immaginary_coefficient}i\")"
   ]
  },
  {
   "cell_type": "markdown",
   "metadata": {},
   "source": [
    "#### Cartesiana $\\iff$ Trigonometrica\n",
    "\n",
    "Per passare dalla forma cartesiana di un numero complesso ($z= a+bi$) alla sua relativa rappresentazione trigonometrica ($z= \\rho \\cdot \\left(\\cos{\\theta} + i \\sin{\\theta}\\right)$), i passaggi sono i seguenti:\n",
    "\n",
    "Si calcola $\\rho$\n",
    "\n",
    "$\\rho= \\sqrt{a^2+b^2}$\n",
    "\n",
    "Si calcola $\\theta$\n",
    "\n",
    "\\*\\*vedi sezione sopra per avere un'idea chiara di come calcolare theta\\*\\*\n",
    "\n",
    "Una volta ottenuto $\\theta$ basta sostiruire i valori trovati all'intero della formula:\\\n",
    "$z= \\rho \\cdot \\left(\\cos{\\theta} + i \\sin{\\theta}\\right)$"
   ]
  },
  {
   "cell_type": "markdown",
   "metadata": {},
   "source": [
    "#### Trigonometrica $\\iff$ Esponenziale\n",
    "\n",
    "Tra tutte le conversioni, questa penso sia la più facile.\\\n",
    "Se analizziamo con attenzione le due rappresentazioni:\n",
    "$$\n",
    "z= \\rho \\cdot \\left(\\cos{\\theta} + i \\sin{\\theta}\\right) \\iff z= \\rho \\cdot e^{i\\theta}\\\\\n",
    "\\rho \\cdot \\left(\\cos{\\theta} + i \\sin{\\theta}\\right) = \\rho \\cdot e^{i\\theta}\\\\\n",
    "$$\n",
    "Possiamo dividere per $\\rho$ da entrambe le parti:\n",
    "$$\n",
    "\\left(\\cos{\\theta} + i \\sin{\\theta}\\right) = e^{i\\theta}\n",
    "$$\n",
    "La formula che abbiamo appena trovato è così facendo è l'identità di Eulero.\n",
    "\n",
    "Quindi per convertire un numero complesso dalla sua rappresentazione trigonometrica a esponenziale, basta sostituire i valori all'interno delle formule:\n",
    "$$\n",
    "\\rho \\cdot \\left(\\cos{\\theta} + i\\sin{\\theta}\\right)=\\rho \\cdot e^{i\\theta}\n",
    "$$\n",
    "---\n",
    "Colgo il ragionamento fino al quale siamo arrivati per dimostrare la forma più comune nella quale l'uguaglianza di Eulero viene rappresentata:\n",
    "$$\n",
    "e^{i\\pi}= -1\n",
    "$$\n",
    "Infatti, se alla formula\n",
    "$$\n",
    "e^{i\\theta}= (\\cos(\\theta) + i \\sin(\\theta))\n",
    "$$\n",
    "si sostituisce $\\pi$ a $\\theta$\n",
    "$$\n",
    "\\begin{align*}\n",
    "& e^{i\\pi}= (\\cos(\\pi) + i \\sin(\\pi))\\\\\n",
    "& e^{i\\pi}= (-1 + i \\cdot 0)\\\\\n",
    "& e^{i\\pi}= -1\n",
    "\\end{align*}\n",
    "$$\n",
    "\n",
    "Per convertire un numero complesso dalla sua forma trigonometrica alla sua forma cartesiana, basta fare il passaggio opposto:\n",
    "$$\n",
    "\\rho \\cdot \\left(\\cos{\\theta} + i \\sin{\\theta}\\right) = \\rho \\cdot e^{i\\theta}\n",
    "$$"
   ]
  },
  {
   "cell_type": "markdown",
   "metadata": {},
   "source": [
    "### Definizioni utili nell'ambito dei complessi"
   ]
  },
  {
   "cell_type": "markdown",
   "metadata": {},
   "source": [
    "#### Modulo di un numero complesso"
   ]
  },
  {
   "cell_type": "markdown",
   "metadata": {},
   "source": [
    "Dato un numero complesso\n",
    "\n",
    "$z = a + ib$\n",
    "\n",
    "il suo modulo ($|z|$) equivale a\n",
    "\n",
    "$|z| = \\sqrt{a^2 + b^2}$\n",
    "\n",
    "**Osservazioni:**\n",
    "- $Im(|z|)= 0 \\quad \\forall z \\in \\mathbb{C}$ &rarr; Il modulo di un numero complesso è sempre un numero reale\n",
    "- $|z| \\geq 0 \\quad \\forall z \\in \\mathbb{C}$ &rarr; Il modulo è sempre maggiore o uguale a 0\n",
    "\n",
    "**Note:**\\\n",
    "Successivamente vedremo come un numero complesso può essere rappresentato come un vettore sul piano _argand gauss_.\\\n",
    "Il modulo rappresenta la lunghezza di questo vettore."
   ]
  },
  {
   "cell_type": "markdown",
   "metadata": {},
   "source": [
    "#### Coniungato di un numero complesso"
   ]
  },
  {
   "cell_type": "markdown",
   "metadata": {},
   "source": [
    "Dato un numero complesso\n",
    "\n",
    "$z= a + ib$\n",
    "\n",
    "Il suo coniugato è\n",
    "\n",
    "$\\overline{z}= a - ib$\n",
    "\n",
    "In pratica il coniugato di un numero complesso è lo stesso numero, ma con il coefficiente immaginario cambiato di segno."
   ]
  },
  {
   "cell_type": "markdown",
   "metadata": {},
   "source": [
    "### Operazioni con i numeri complessi"
   ]
  },
  {
   "cell_type": "markdown",
   "metadata": {},
   "source": [
    "### Proprietà dei numeri complessi"
   ]
  },
  {
   "cell_type": "markdown",
   "metadata": {},
   "source": [
    "L'inverso di un numero complesso ($\\frac{1}{z}$) equivale al suo coniugato fratto il suo modulo al quadrato ($\\frac{\\overline{z}}{|z|^2}$):\n",
    "\n",
    "$\\frac{1}{z}=$\n",
    "\n",
    "Moltiplico per $\\frac{a-ib}{a-ib}$ (come moltiplicare per 1)\n",
    "\n",
    "$\\frac{1}{a+ib} \\cdot \\frac{a-ib}{a-ib}=$\n",
    "\n",
    "Al numeratore c'è il coniugato del numero complesso ($a-ib$), mentre al denominatore c'è il quadrato del suo modulo $\\left(\\sqrt{a^2+b^2}\\right)^2 = a^2 + b^2$\n",
    "\n",
    "$\\frac{a-ib}{a^2+b^2}= \\frac{\\overline{z}}{|z|^2}$"
   ]
  },
  {
   "cell_type": "markdown",
   "metadata": {},
   "source": [
    "Il modulo di $z$ è uguale al modulo di $z$ coniugato.\n",
    "$$\n",
    "|z| = |\\overline{z}|\n",
    "$$\n",
    "\n",
    "Lo si intuisce facilmente se lo si immagina come vettore in quanto la lunghezza di un vettore non cambia al variare della direzione in cui punta."
   ]
  },
  {
   "cell_type": "markdown",
   "metadata": {},
   "source": [
    "Il coniugato della somma di $z$ e $w$ è uguale al coniugato di $z$ più il coniugato di $w$.\n",
    "$$\n",
    "\\overline{z+w}= \\overline{z} + \\overline{w}\n",
    "$$"
   ]
  },
  {
   "cell_type": "markdown",
   "metadata": {},
   "source": [
    "Calcolando due volte il coniugato di $z$, si ottiene nuovamente $z$.\n",
    "$$\n",
    "\\overline{\\overline{z}} = z\n",
    "$$"
   ]
  },
  {
   "cell_type": "markdown",
   "metadata": {},
   "source": [
    "$z$ moltiplicato per il suo coniugato ($\\overline{z}$) risulta nel suo modulo al quadrato.\n",
    "$$\n",
    "z \\cdot \\overline{z}= |z|^2\n",
    "$$\n",
    "\n",
    "**Dimostrazione:**\\\n",
    "$(a + bi) \\cdot (a - bi)= (a^2 + b^2)$\n",
    "\n",
    "**Note:**\\\n",
    "Il modulo di $z$ è sempre un numero reale, questo vuol dire che un numero complesso $z$ moltiplicato per il suo coniugato, darà sempre un numero reale."
   ]
  },
  {
   "cell_type": "markdown",
   "metadata": {},
   "source": [
    "## Tabella simboli matematici"
   ]
  },
  {
   "cell_type": "markdown",
   "metadata": {
    "vscode": {
     "languageId": "plaintext"
    }
   },
   "source": [
    "| Simbolo | Descrizione |\n",
    "|:-:|:-|\n",
    "| $:$, $\\mid$ | Tale che |\n",
    "| $\\exists$ | Esiste |\n",
    "| $\\nexists$ | Non esiste |\n",
    "| $\\exists !$ | Esiste un unico elemento (senza punto esclamativo potrebbe implicare la presenza di più di un elemento che soddisfa una determinata condizione) |\n",
    "| $\\forall$ | Per ogni |\n",
    "| $\\in$ | Appartiene |\n",
    "| $\\notin$ | Non appartiene |\n",
    "| $\\cup$ | Unione tra insiemi |\n",
    "| $\\cap$ | Intersezione tra insiemi |\n",
    "| $\\setminus$ | Differenza tra insiemi |\n",
    "| $\\emptyset$ | Insieme vuoto |\n",
    "| $\\subseteq$ | Sottoinsieme |\n",
    "| $\\subset$ | Sottoinsieme stretto |\n",
    "| $\\vee$ | Oppure |\n",
    "| $\\wedge$ | E (proposizione) |\n",
    "| $\\equiv$ | Equivalente/coincide |"
   ]
  },
  {
   "cell_type": "markdown",
   "metadata": {},
   "source": [
    "## Esercizi"
   ]
  },
  {
   "cell_type": "markdown",
   "metadata": {},
   "source": [
    "### Esercizi sulla teoria degli insiemi"
   ]
  },
  {
   "cell_type": "markdown",
   "metadata": {},
   "source": [
    "$A = \\{x \\in \\mathbb{R} : x^2 -8x +15 \\leq 0\\}$\n",
    "\n",
    "Trovo l'equazione associata:\\\n",
    "$x^2 -8x +15 = 0$\\\n",
    "$(x-3) \\cdot (x-5)= 0$\\\n",
    "$x_1= 3$\\\n",
    "$x_2= 5$\n",
    "\n",
    "Dato che la funzione presenta una concavità verso l'alto si può arrivare alla soluzione:\\\n",
    "$A=\\{x \\in \\mathbb{R} : 3 \\leq x \\leq 5\\}$\n",
    "\n",
    "$min(A)= inf(A)= 3$\\\n",
    "$max(A)= sup(A)= 5$"
   ]
  },
  {
   "cell_type": "markdown",
   "metadata": {},
   "source": [
    "$A= \\{x \\in \\mathbb{R} : \\}$"
   ]
  },
  {
   "cell_type": "markdown",
   "metadata": {},
   "source": [
    "### Esercizi sui numeri complessi"
   ]
  },
  {
   "cell_type": "markdown",
   "metadata": {},
   "source": [
    "$\\frac{(1+2i)^2 - (1-i)^3}{(3+2i)^3-(2+i)^2} =$\n",
    "\n",
    "$\\frac{(1+4i-4)-(1-3i-3+i)}{(-9+46i)-(3+4i)} =$\n",
    "\n",
    "$\\frac{(-3+4i)-(-2-2i)}{-9+46i-3-4i} =$\n",
    "\n",
    "$\\frac{-3+4i+2+2i}{-9+46i-3-4i} =$\n",
    "\n",
    "$\\frac{-1+6i}{-12+42i} =$\n",
    "\n",
    "$\\frac{-1+6i}{-12+42i} =$\n",
    "\n",
    "$\\frac{1-6i}{12-42i} \\cdot \\frac{12+42i}{12+42i} =$\n",
    "\n",
    "$[...]$\n",
    "\n",
    "$\\frac{264-30i}{1908}=$\n",
    "\n",
    "$\\frac{22}{159} - \\frac{5}{318}i$"
   ]
  },
  {
   "cell_type": "markdown",
   "metadata": {},
   "source": [
    "$(-1+i)^{60}=$\n",
    "\n",
    "$(-1+i)^{60}=$"
   ]
  },
  {
   "cell_type": "markdown",
   "metadata": {},
   "source": [
    "$(\\sqrt{60} - 3i)^6=$\n",
    "\n",
    "Devo convertire la forma cartesiana in forma euleriana ($\\phi e^{\\pi \\theta}$):\n",
    "\n",
    "$\\phi=\\sqrt{a^2 + b^2} = \\sqrt{(\\sqrt{3})^2 + (-3)^2}= \\sqrt{3+9}= \\sqrt{12}$\n",
    "\n",
    "$\\theta= arctan \\left( \\frac{-3}{-\\sqrt{3}} \\right)= -\\frac{1}{3} \\pi$\n",
    "\n",
    "$\\left(\\sqrt{12} e^{i -\\frac{1}{3} \\pi}\\right)^{6}= (\\sqrt{12})^{6} \\cdot (e^{i (-\\frac{1}{3} \\cdot 6)\\pi})= (12)^{3} \\cdot (e^{i -2\\pi})= (12)^{3} \\cdot (\\frac{1}{e^{i \\pi}} \\cdot \\frac{1}{e^{i \\pi}})= 12^3 \\cdot 1= 1728$"
   ]
  },
  {
   "cell_type": "markdown",
   "metadata": {},
   "source": [
    "$\\left(\\frac{i+i \\sqrt{3}}{1-i}\\right)^{40}=$\n",
    "\n",
    "Per prima cosa devo dividere i due numeri complessi.\\\n",
    "La divisione tra numeri complessi sfrutta il prodotto notevole $(a+b)^2 = (a+b) \\cdot (a-b)$ e la fattorizzazione.\n",
    "\n",
    "\n",
    "$\\frac{i+i \\sqrt{3}}{1-i}=$\n",
    "\n",
    "$\\frac{i+i \\sqrt{3}}{1-i} \\cdot \\frac{1+i}{1+i}=$"
   ]
  },
  {
   "cell_type": "markdown",
   "metadata": {
    "vscode": {
     "languageId": "plaintext"
    }
   },
   "source": [
    "### Esercizi generali"
   ]
  },
  {
   "cell_type": "markdown",
   "metadata": {},
   "source": [
    "#### Calcolare sufficienti potenze consecutive di $i$ per poter dedurre il periodo di quest'operazione\n",
    "$i^{0}= 1$\\\n",
    "$i^{1}= i$\\\n",
    "$i^{2}= -1$\\\n",
    "$i^{3}= -1 \\cdot i = -i$\\\n",
    "$i^{4}= -i \\cdot i= 1$\\\n",
    "$i^{5}= 1 \\cdot i= i$\\\n",
    "$i^{7}= i \\cdot i= -1$\\\n",
    "$i^{8}= -1 \\cdot i= -i$\\\n",
    "$i^{9}= -i \\cdot i= 1$\\\n",
    "$...$\n",
    "\n",
    "Conclusioni:\n",
    "\n",
    "$i^{4k}= 1 \\quad \\forall k \\in \\mathbb{N}$\\\n",
    "$i^{4k+1}= i \\quad \\forall k \\in \\mathbb{N}$\\\n",
    "$i^{4k+2}= -1 \\quad \\forall k \\in \\mathbb{N}$\\\n",
    "$i^{4k+3}= -i \\quad \\forall k \\in \\mathbb{N}$"
   ]
  }
 ],
 "metadata": {
  "kernelspec": {
   "display_name": "base",
   "language": "python",
   "name": "python3"
  },
  "language_info": {
   "codemirror_mode": {
    "name": "ipython",
    "version": 3
   },
   "file_extension": ".py",
   "mimetype": "text/x-python",
   "name": "python",
   "nbconvert_exporter": "python",
   "pygments_lexer": "ipython3",
   "version": "3.12.2"
  }
 },
 "nbformat": 4,
 "nbformat_minor": 2
}
