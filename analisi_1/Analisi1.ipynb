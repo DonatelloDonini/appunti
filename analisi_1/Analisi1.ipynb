{
 "cells": [
  {
   "cell_type": "markdown",
   "metadata": {},
   "source": [
    "# Analisi 1"
   ]
  },
  {
   "cell_type": "markdown",
   "metadata": {
    "vscode": {
     "languageId": "plaintext"
    }
   },
   "source": [
    "## Teoria degli insiemi"
   ]
  },
  {
   "cell_type": "markdown",
   "metadata": {},
   "source": [
    "### Prime definizioni\n",
    "Un insieme è un gruppo **non ordinato** di elementi **non ripetuti**"
   ]
  },
  {
   "cell_type": "markdown",
   "metadata": {},
   "source": [
    "### Come rappresentare gli insiemi\n",
    "\n",
    "1. Elencando gli elementi al suo interno:\\\n",
    "`<nome_insieme>={<elementi_separati_da_una_virgola>}`\\\n",
    "\\\n",
    "Esempio:\\\n",
    "$A= \\{1, 2, 3\\}$\n",
    "\n",
    "1. Definendo una proprietà comune a tutti gli elementi dell'insieme:\\\n",
    "`<nome_insieme>={<proprieta>}`\\\n",
    "\\\n",
    "Esempio:\\\n",
    "A= {tutti i numeri pari}\\\n",
    "\\\n",
    "**Attenzione**:\\\n",
    "La maggior parte delle volte (anche per questioni di pulizia), non viene specificata una proprietà in termini testuali, piuttosto in termini matematici.\\\n",
    "\\\n",
    "Esempio:\\\n",
    "$A= \\{2x \\mid x \\in \\mathbb{Z}\\}$"
   ]
  },
  {
   "cell_type": "markdown",
   "metadata": {},
   "source": [
    "### Sottoinsiemi\n",
    "\n",
    "1. Sottoinsieme:\\\n",
    "\\<nome_insieme_1> $\\subseteq$ \\<nome_insieme_2>\\\n",
    "In questo caso `<nome_insieme_2>` contiene `<nome_insieme_1>` e potrebbe essere uguale ad esso.\n",
    "\\\n",
    "Esempio:\\\n",
    "$A \\subseteq B$\n",
    "\n",
    "1. Sottoinsieme stretto:\\\n",
    "\\<nome_insieme_1> $\\subset$ \\<nome_insieme_2>\\\n",
    "In questo caso `<nome_insieme_2>` contiene `<nome_insieme_1>` ma non è mai uguale ad esso.\n",
    "\\\n",
    "Esempio:\n",
    "$A \\subset B$\n",
    "\n",
    "**Attenzione:**\\\n",
    "Questi simboli si possono usare solo comparando insiemi.\\\n",
    "La scrittura $9 \\subseteq \\{7, 8, 9\\}$ è sbagliata, la scrittura giusta è $\\{9\\} \\subseteq \\{7, 8, 9\\}$.\\\n",
    "Per indicare la presenza o meno di un elemento in un insieme si utilizza il sumbolo di appartenenza ($\\in$|$\\notin$)."
   ]
  },
  {
   "cell_type": "markdown",
   "metadata": {},
   "source": [
    "### Operazioni sugli insiemi\n",
    "\n",
    "1. Unione tra insiemi:\\\n",
    "\\<nome_insieme_1> $\\cup$ \\<nome_insieme_2>\\\n",
    "\\\n",
    "Esempio:\\\n",
    "$A= \\{1, 2, 3\\} \\\\B= \\{2, 3, 4\\}\\\\A \\cup B= \\{1, 2, 3, 4\\}$\n",
    "\n",
    "1. Intersezione tra insiemi:\\\n",
    "\\<nome_insieme_1> $\\cap$ \\<nome_insieme_2>\\\n",
    "\\\n",
    "Esempio:\\\n",
    "$A= \\{1, 2, 3\\}\\\\B= \\{2, 3, 4\\}\\\\A \\cap B= \\{2, 3\\}$\n",
    "\n",
    "1. Differenza tra insiemi:\\\n",
    "\\<nome_insieme_1> $\\setminus$ \\<nome_insieme_2>\\\n",
    "\\\n",
    "Esempio:\\\n",
    "$A= \\{1, 2, 3\\}\\\\B= \\{2, 3, 4\\}\\\\A \\setminus B= \\{1\\}$\n",
    "\n",
    "1. Prodotto cartesiano di insiemi:\\\n",
    "\\<nome_insieme_1> $\\times$ <nome_insieme_2>\\\n",
    "\\\n",
    "Esempio:\\\n",
    "$A= \\{5, c\\}$\\\n",
    "$B= \\{1, 2, 3\\}$\\\n",
    "$A \\times B= \\{(5, 1), (5, 2), (5, 3), (c, 1), (c, 2), (c, 3)\\}$\\\n",
    "\\\n",
    "**Attenzione:**\\\n",
    "Se si calcola il prodotto cartesiano di un insieme non vuoto e di un insieme vuoto, il prodotto è sempre un insieme vuoto."
   ]
  },
  {
   "cell_type": "markdown",
   "metadata": {
    "vscode": {
     "languageId": "plaintext"
    }
   },
   "source": [
    "### Insieme delle parti di un insieme\n",
    "Dato un insieme A si dice **insieme delle parti** di A l'insieme costituito da tutit i sottoinsiemi di A.\\\n",
    "\\\n",
    "Esempio:\\\n",
    "$A= \\{k, 9\\}\\\\P(A)= \\{B : B \\subseteq A\\}\\\\P(A)= \\{\\emptyset, A, \\{k\\}, \\{9\\}\\}$"
   ]
  },
  {
   "cell_type": "markdown",
   "metadata": {},
   "source": [
    "### Cardinalità di un insieme\n",
    "$\\left| A \\right|$= numero di elementi di $A$"
   ]
  },
  {
   "cell_type": "markdown",
   "metadata": {},
   "source": [
    "### Cardinalità dell'insieme delle parti di un insieme\n",
    "Per calcolare la cardinalità dell'insieme delle parti di un insieme, si usa la seguente formula:\\\n",
    "$k= \\left| A \\right|$\\\n",
    "$\\left| P(A) \\right| = 2^{k}$\\\n",
    "\\\n",
    "Esercizio:\\\n",
    "$\\left| P(P(P(\\empty))) \\right|= ?$\\\n",
    "\\\n",
    "Soluzione:\\\n",
    "$\\left| P(P(\\{\\empty\\})) \\right|= $\\\n",
    "$\\left| P(\\{\\empty, \\{\\empty\\}\\}) \\right|= $\\\n",
    "$\\left| \\{\\empty, \\{\\empty, \\{\\empty\\}\\}\\} \\right|= $\\\n",
    "$4$"
   ]
  },
  {
   "cell_type": "markdown",
   "metadata": {},
   "source": [
    "### Insiemi Numerici\n",
    "$\\mathbb{N}= \\{0, 1, 2, 3, ...\\}$ &rarr; Numeri naturali (interi positivi)\\\n",
    "$\\mathbb{Z}= \\{-1, 0, 1, ...\\}$ &rarr; Numeri relativi (interi)\\\n",
    "$\\mathbb{Q}= \\{-1, \\frac{1}{3}, \\frac{3}{4}, 1, 2, ...\\}$ &rarr; Numeri razionali (interi + frazionari)\\\n",
    "$\\mathbb{R}= \\{0, 1, 2, 3, ...\\}$ &rarr; Numeri reali (interi + frazionari + irrazionali, come $\\pi$, $\\sqrt{2}$)\\\n",
    "$\\mathbb{C}= \\{0, 1, 2, 3, ...\\}$ &rarr; Numeri complessi\n",
    "\n",
    "**Attenzione:**\\\n",
    "Fanno parte dei numeri razinonali tutti i numeri che si possono rappresentare come una frazione di due numeri.\\\n",
    "Un numero, per essere considerato irrazionale, non basta che abbia un numero di cifre infinito dopo la virgola, deve non poter essere rappresentato come frazione."
   ]
  },
  {
   "cell_type": "markdown",
   "metadata": {},
   "source": [
    "### Assiomi nei numeri reali\n",
    "1. $\\forall a \\in \\mathbb{R} \\quad \\exists! b \\in \\mathbb{R}: \\quad a+b=0 \\implies b= -a$\n",
    "\n",
    "#### Somma\n",
    "1. $a+b= b+a \\quad \\forall a, b \\in \\mathbb{R}$\n",
    "1. $a+(b+c)= (a+b)+c \\quad \\forall a, b, c \\in \\mathbb{R}$\n",
    "1. $\\forall a \\in \\mathbb{R} \\quad \\exists ! 0 \\in \\mathbb{R}: \\quad a+0= a \\quad$\n",
    "\n",
    "#### Prodotto\n",
    "1. $a \\cdot b= b \\cdot a \\quad \\forall a, b \\in \\mathbb{R}$\n",
    "1. $a \\cdot (b \\cdot c)= (a \\cdot b) \\cdot c \\quad \\forall a, b, c \\in \\mathbb{R}$\n",
    "1. $\\forall a \\in \\mathbb{R} \\quad \\exists ! 1 \\in \\mathbb{R}: \\quad a \\cdot 1 = a$\n",
    "1. $\\forall a \\in \\mathbb{R}, a \\neq 0 \\quad \\exists b \\in \\mathbb{R}: \\quad a \\cdot b= 1 \\implies b= \\frac{1}{a}$\n",
    "1. $a \\cdot (b+c) = a \\cdot b + a \\cdot c$\n",
    "\n",
    "#### Ordinamento\n",
    "1. $x \\leq y \\vee y \\leq x \\quad \\forall x, y \\in \\mathbb{R}$\n",
    "1. $x \\leq x$\n",
    "1. Se $x \\leq y \\wedge y \\leq z \\implies x \\leq z$\n",
    "1. Se $x \\leq y \\wedge y \\leq x \\implies x = z$\n",
    "\n",
    "#### Ordinamento e operazioni\n",
    "1. Se $x \\leq y \\implies x+z \\leq y+z$\n",
    "1. Se $x \\leq y \\implies x \\cdot z \\leq y \\cdot z \\quad \\forall z \\in \\mathbb{R}, z \\geq 0$\n",
    "1. Se $x \\leq y \\implies y \\cdot z \\leq x \\cdot z \\quad \\forall z \\in \\mathbb{R}, z \\leq 0$"
   ]
  },
  {
   "cell_type": "markdown",
   "metadata": {},
   "source": [
    "### Massimio e Minimo\n",
    "1. Massimo &rarr; numero più grande di un insieme\n",
    "1. Minimo &rarr; numero più piccolo di un insieme"
   ]
  },
  {
   "cell_type": "markdown",
   "metadata": {},
   "source": [
    "### Intervalli\n",
    "Il massimo e minimo possono esistere, quando esisono sono unici (possono coesistere)\\\n",
    "\\\n",
    "**Esempio:**\\\n",
    "$A= \\{x \\in \\mathbb{R} : 0 \\leq x \\lt 1\\} = [0, 1)$\n",
    "- Il massimo non esiste.\n",
    "- Il miinimo esiste, ed è 0."
   ]
  },
  {
   "cell_type": "markdown",
   "metadata": {},
   "source": [
    "### Naggioranti e Minoranti\n",
    "Sia $A \\subseteq \\mathbb{R}$ non vuoto.\\\n",
    "Si dice che $b \\in \\mathbb{R}$ è maggiorante di A se $b \\leq a \\quad \\forall a \\in A$\n",
    "\n",
    "**Note:**\n",
    "1. I maggioranti e i minoranti non esistono sempre.\n",
    "1. Se esistono, sono infiniti.\n",
    "\n",
    "**Esempio:**\\\n",
    "$A = (0, 1)$\\\n",
    "I maggioranti sono tutti i numeri $\\in$ R maggiori di 1\\\n",
    "I maggioranti sono tutti i numeri $\\in$ R minori di 0"
   ]
  },
  {
   "cell_type": "markdown",
   "metadata": {},
   "source": [
    "### Estremo superiore ed estremo inferiore\n",
    "Sia $A \\subseteq \\mathbb{R}$ non $\\empty$\\\n",
    "Se A non è limitato superioremente, allora si pone sup(A)= +$\\infty$, altrimenti si pone sup(A)= minimo dei maggioranti.\\\n",
    "Viceversa per l'estremo inferiore."
   ]
  },
  {
   "cell_type": "markdown",
   "metadata": {},
   "source": [
    "### Teorema\n",
    "Se $A \\subseteq \\mathbb{R}$ non vuoto, allora l'estremo superiore ed inferiore di $A$ esistono sempre.\\\n",
    "Supponiamo che $A$ sia limitato superiormente.\\\n",
    "Consideriamo l'insieme $B$ di tutti i suoi maggioranti.\\\n",
    "Per definizione $A$ giacce \"a sinistra\" (prima) di $B$.\\\n",
    "Per l'assioma di continuità esiste almeno un $c \\in \\mathbb{R}$ tale che $a \\leq c \\quad \\forall a \\in A$ &rarr; c è maggiorante di $A$ &rarr; $c \\in B$ &rarr; c è il minimo dei maggioranti, quindi per definizione c è l'estremo superiore di A."
   ]
  },
  {
   "cell_type": "markdown",
   "metadata": {},
   "source": [
    "### Estremi superiori e inferiori\n",
    "Sia $A \\subseteq \\mathbb{R}$ non $\\empty$\n",
    "* Se $A$ non o limitato superiormente $\\implies sup(A) = +\\infty$\n",
    "* Se $A$ non o limitato inferiormente $\\implies sup(A) = -\\infty$\n",
    "* Se $A$ è limitato superiormente $\\implies sup(A) = min(maggioranti)$\n",
    "* Se $A$ è limitato inferiormente $\\implies sup(A) = max(minoranti)$\n",
    "\n",
    "**Osservazioni:**\n",
    "1. L'estremo superiore e inferiore esistono sempre\n",
    "1. Sono unici\n",
    "1. Se esiste $max(A) = M \\implies sup(A)$\n",
    "1. Se esiste $min(A) = m \\implies inf(A)$\n",
    "1. $sup(A)/inf(A)$ non sono necessariamente elementi di $A$"
   ]
  },
  {
   "cell_type": "markdown",
   "metadata": {},
   "source": [
    "### Caratterizzazioni estremo superiore ed estremo inferiore\n",
    "Dato $A$ un insieme non $\\empty$\n",
    "* L'estremo superiore di $A$ è $+\\infty$ se e solo se $\\forall M \\in \\mathbb{R} \\quad \\exists a \\in A : a \\geq M$.\n",
    "* L'estremo inferiore di $A$ è $-\\infty$ se e solo se $\\forall m \\in \\mathbb{R} \\quad \\exists a \\in A : a \\leq m$.\n",
    "\n",
    "Per convenzione si dice che l'estremo superiore dell'insieme vuoto è $-\\infty$\n",
    "\n",
    "* L'estremo superiore di $A$ è $L \\in \\mathbb{R}$ se e solo se $\\forall \\epsilon > 0 \\quad \\exists a \\in A : L-\\epsilon \\leq a < L$ con $\\epsilon$ arbitrariamente piccolo.\n",
    "* L'estremo inferiore di $A$ è $L \\in \\mathbb{R}$ se e solo se $\\forall \\epsilon > 0 \\quad \\exists a \\in A : L \\leq a < L+\\epsilon$ con $\\epsilon$ arbitrariamente piccolo."
   ]
  },
  {
   "cell_type": "markdown",
   "metadata": {
    "vscode": {
     "languageId": "plaintext"
    }
   },
   "source": [
    "## Funzioni"
   ]
  },
  {
   "cell_type": "markdown",
   "metadata": {},
   "source": [
    "## Tabella simboli matematici"
   ]
  },
  {
   "cell_type": "markdown",
   "metadata": {
    "vscode": {
     "languageId": "plaintext"
    }
   },
   "source": [
    "| Simbolo | Descrizione |\n",
    "|:-:|:-|\n",
    "| $:$, $\\mid$ | Tale che |\n",
    "| $\\exists$ | Esiste |\n",
    "| $\\nexists$ | Non esiste |\n",
    "| $\\exists !$ | Esiste un unico elemento (senza punto esclamativo potrebbe implicare la presenza di più di un elemento che soddisfa una determinata condizione) |\n",
    "| $\\forall$ | Per ogni |\n",
    "| $\\in$ | Appartiene |\n",
    "| $\\notin$ | Non appartiene |\n",
    "| $\\cup$ | Unione tra insiemi |\n",
    "| $\\cap$ | Intersezione tra insiemi |\n",
    "| $\\setminus$ | Differenza tra insiemi |\n",
    "| $\\emptyset$ | Insieme vuoto |\n",
    "| $\\subseteq$ | Sottoinsieme |\n",
    "| $\\subset$ | Sottoinsieme stretto |\n",
    "| $\\vee$ | Oppure |\n",
    "| $\\wedge$ | E (proposizione) |\n",
    "| $\\equiv$ | Equivalente/coincide |"
   ]
  }
 ],
 "metadata": {
  "language_info": {
   "name": "python"
  }
 },
 "nbformat": 4,
 "nbformat_minor": 2
}
