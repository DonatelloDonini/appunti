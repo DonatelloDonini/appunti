{
 "cells": [
  {
   "cell_type": "markdown",
   "metadata": {},
   "source": [
    "# Programmazione 1"
   ]
  },
  {
   "cell_type": "markdown",
   "metadata": {},
   "source": [
    "## Compilare un file"
   ]
  },
  {
   "cell_type": "markdown",
   "metadata": {},
   "source": [
    "Assuming we already have a linux distribution on our machine, we can start setting up our environment.\\\n",
    "First, to compile the script we are going to write, we need to install the compiler.\\\n",
    "To install the compiler, just open a terminal and run the following commands:\n",
    "```\n",
    "sudo apt update\n",
    "sudo apt upgrade\n",
    "sudo apt-get install build-essential\n",
    "```\n",
    "\n",
    "To compile a C++ script we need to use the command `g++ <filename_to_compile>` inside the terminal.\\\n",
    "\n",
    "> **Example:**\\\n",
    "> file to compile: calculator.cpp\\\n",
    "> command: `g++ calculator.cpp`\\\n",
    "> output: `a.out calculator.cpp`\n",
    "\n",
    "If we execute this command \"as is\" It will generate by default an executable file called `a.out`.\\\n",
    "If we want to specify the name of the file we want in return, we must add the option `-o` to the command, wich, as I said, will set the name of the output file: `g++ -o <output_filename> <filename_to_compile>`.\n",
    "\n",
    "> **Example:**\\\n",
    "> file to compile: calculator.cpp\\\n",
    "> command: `g++ -o calculator.out calculator.cpp`\\\n",
    "> output: `calculator.out calculator.cpp`"
   ]
  },
  {
   "cell_type": "markdown",
   "metadata": {},
   "source": [
    "## Template of a C++ file"
   ]
  },
  {
   "cell_type": "code",
   "execution_count": null,
   "metadata": {
    "vscode": {
     "languageId": "cpp"
    }
   },
   "outputs": [],
   "source": [
    "using namespace std;\n",
    "\n",
    "#include <iostream>\n",
    "\n",
    "int main() {\n",
    "    return 0;\n",
    "}"
   ]
  },
  {
   "cell_type": "markdown",
   "metadata": {},
   "source": [
    "## Language specifications"
   ]
  },
  {
   "cell_type": "markdown",
   "metadata": {},
   "source": [
    "### Allowed characters\n",
    "\n",
    "**Letters:**\\\n",
    "`_ a b c d e f g h i j k l m n o p q r s t u v w x y z A B C D E F G H I J K L M N O P Q R S T U V W X Y Z`\n",
    "\n",
    "**Digits:**\\\n",
    "`0 1 2 3 4 5 6 7 8 9`\n",
    "\n",
    "**Special characters:**\\\n",
    "`! ^ \\& \\* ( ) - + = { } | ~ [ ] \\ ; ’ : \" < > ? , . /`\n",
    "\n",
    "**Note:**\\\n",
    "This may seem obvius, but the school computers might not be able to support character ouside the ones listed."
   ]
  },
  {
   "cell_type": "markdown",
   "metadata": {
    "vscode": {
     "languageId": "plaintext"
    }
   },
   "source": [
    "### Namespace\n",
    "The `namespace` keyword indicates the context of the called functions.\n",
    "\n",
    "Doing:\n",
    "```\n",
    "using namespace std;\n",
    "\n",
    "#include <iostream>\n",
    "\n",
    "int main() {\n",
    "  return 0;\n",
    "}\n",
    "```\n",
    "\n",
    "Is equal to:\n",
    "```\n",
    "#include <iostream>\n",
    "\n",
    "int main() {\n",
    "  std::cout << \"Hello, World!\" << endl;\n",
    "  return 0;\n",
    "}\n",
    "```\n",
    "\n",
    "The second option is cleaner because it avoids conflicts between same symbols belonging to different namespaces."
   ]
  },
  {
   "cell_type": "markdown",
   "metadata": {},
   "source": [
    "### Spaziatura\n",
    "\n",
    "- Spazi normali\n",
    "- Tabluazioni\n",
    "- Nuova riga"
   ]
  },
  {
   "cell_type": "markdown",
   "metadata": {},
   "source": [
    "### Commenti"
   ]
  },
  {
   "cell_type": "markdown",
   "metadata": {
    "vscode": {
     "languageId": "cpp"
    }
   },
   "source": [
    "**Commenti in riga:** ottenuti aggiungendo del testo su una riga sola dopo i caratteri `//`."
   ]
  },
  {
   "cell_type": "code",
   "execution_count": null,
   "metadata": {
    "vscode": {
     "languageId": "cpp"
    }
   },
   "outputs": [],
   "source": [
    "using namespace std;\n",
    "\n",
    "#include <iostream>\n",
    "\n",
    "int main() {\n",
    "    // Questo è un commento in riga. (se andassi a capo, il compilatore interpretarebbe il testo successivo come codice)\n",
    "    return 0;\n",
    "}"
   ]
  },
  {
   "cell_type": "markdown",
   "metadata": {},
   "source": [
    "**Blocchi di commenti:** ottenuto aggiungendo del testo tra `/*` e `*/` (utilizzati generalmente per blocchi di commenti)."
   ]
  },
  {
   "cell_type": "code",
   "execution_count": null,
   "metadata": {
    "vscode": {
     "languageId": "cpp"
    }
   },
   "outputs": [],
   "source": [
    "using namespace std;\n",
    "\n",
    "#include <iostream>\n",
    "\n",
    "int main() {\n",
    "    /* Esempio (questo codice verra ignorato dal compilatore) */\n",
    "    return 0;\n",
    "}"
   ]
  },
  {
   "cell_type": "markdown",
   "metadata": {},
   "source": [
    "### Tabella delle parole chiave di C++\n",
    "\n",
    "| Parola chiave   | Descrizione                                                                 |\n",
    "|:-|:-|\n",
    "| `int`     | Definisce una variabile intera.                                              |\n",
    "| `float`   | Definisce una variabile a virgola mobile.                                    |\n",
    "| `double`  | Definisce una variabile a doppia precisione a virgola mobile.                |\n",
    "| `char`    | Definisce una variabile carattere.                                           |\n",
    "| `bool`    | Definisce una variabile booleana (vero o falso).                             |\n",
    "| `void`    | Specifica che una funzione non restituisce un valore.                        |\n",
    "| `if`      | Inizia una dichiarazione condizionale.                                       |\n",
    "| `else`    | Specifica il blocco di codice da eseguire se la condizione `if` è falsa.     |\n",
    "| `for`     | Inizia un ciclo for.                                                         |\n",
    "| `while`   | Inizia un ciclo while.                                                       |\n",
    "| `do`      | Inizia un ciclo do-while.                                                    |\n",
    "| `return`  | Esce da una funzione e opzionalmente restituisce un valore.                  |\n",
    "| `switch`  | Inizia una dichiarazione switch per più rami condizionali.                   |\n",
    "| `case`    | Definisce un ramo in una dichiarazione switch.                               |\n",
    "| `default` | Specifica il ramo predefinito in una dichiarazione switch.                   |\n",
    "| `break`   | Esce da un ciclo o da una dichiarazione switch.                              |\n",
    "| `continue`| Salta l'iterazione corrente di un ciclo e procede alla successiva.           |\n",
    "| `class`   | Definisce una classe.                                                        |\n",
    "| `struct`  | Definisce una struttura.                                                     |\n",
    "| `public`  | Specifica il controllo di accesso pubblico per i membri della classe.        |\n",
    "| `private` | Specifica il controllo di accesso privato per i membri della classe.         |\n",
    "| `protected`| Specifica il controllo di accesso protetto per i membri della classe.       |\n",
    "| `namespace`| Definisce un ambito per identificatori per evitare conflitti di nomi.       |\n",
    "| `using`   | Importa un namespace o un identificatore specifico da un namespace.          |\n",
    "| `new`     | Alloca memoria dinamicamente.                                                |\n",
    "| `delete`  | Dealloca memoria che è stata allocata dinamicamente.                         |\n",
    "| `try`     | Inizia un blocco di codice che verrà testato per eccezioni.                  |\n",
    "| `catch`   | Definisce un blocco di codice per gestire le eccezioni.                      |\n",
    "| `throw`   | Lancia un'eccezione.                                                         |"
   ]
  },
  {
   "cell_type": "markdown",
   "metadata": {},
   "source": [
    "### Case sensitivity"
   ]
  },
  {
   "cell_type": "markdown",
   "metadata": {},
   "source": [
    "C++ è case sensitive"
   ]
  },
  {
   "cell_type": "markdown",
   "metadata": {},
   "source": [
    "## Linux specifications"
   ]
  },
  {
   "cell_type": "markdown",
   "metadata": {},
   "source": [
    "### The Linux file system"
   ]
  },
  {
   "attachments": {
    "image.png": {
     "image/png": "[encoded data removed]"
    }
   },
   "cell_type": "markdown",
   "metadata": {},
   "source": [
    "![image.png](attachment:image.png)\n",
    "\n",
    "The Linux file can be represented with a tree-like structure stating from the root directory `/`.\\\n",
    "Directly under the root directory, is where all the system directories are located.\\\n",
    "You will be mostly working inside your home directory `~` more later on the difference between \"the home directory\" and \"your home directory\"."
   ]
  },
  {
   "cell_type": "markdown",
   "metadata": {},
   "source": [
    "### File System commands"
   ]
  },
  {
   "cell_type": "markdown",
   "metadata": {},
   "source": [
    "#### PWD\n",
    "Syntax: `pwd`\n",
    "\n",
    "Acronym: \"Print Working Directory\"\n",
    "\n",
    "Notes:\\\n",
    "It tells you in which directory you are working.\\\n",
    "If it's your home directory, `~` **WON'T** show up, rather the expanded version of the name of your home directory will be outputed."
   ]
  },
  {
   "cell_type": "markdown",
   "metadata": {},
   "source": [
    "#### WHOAMI\n",
    "Syntax: `whoami`\n",
    "\n",
    "Acronym: \"Who Am I\"\n",
    "\n",
    "Notes:\\\n",
    "It tells you which user are you"
   ]
  },
  {
   "cell_type": "markdown",
   "metadata": {
    "vscode": {
     "languageId": "cpp"
    }
   },
   "source": [
    "#### CD\n",
    "Syntax: `cd <directory_name>`\n",
    "\n",
    "Acronym: \"Change Directory\"\n",
    "\n",
    "Notes:\\\n",
    "To go to your own home directory, use `cd ~`.\\\n",
    "The default argument to the CD command is actually the home directory, so technically you could just omit the `~`."
   ]
  },
  {
   "cell_type": "markdown",
   "metadata": {},
   "source": [
    "#### TOUCH\n",
    "Syntax: `touch <filename>`\n",
    "\n",
    "Acronym: \"-\"\n",
    "\n",
    "Notes:\\\n",
    "Crates a file."
   ]
  },
  {
   "cell_type": "markdown",
   "metadata": {},
   "source": [
    "#### MKDIR\n",
    "Syntax: `mkdir <directory_path>`\n",
    "\n",
    "Acronym: \"MaKe DIRectory\"\n",
    "\n",
    "Notes:\\\n",
    "Creates a directory."
   ]
  },
  {
   "cell_type": "markdown",
   "metadata": {},
   "source": [
    "#### RMDIR\n",
    "Syntax: `rmdir <directory_path>`\n",
    "\n",
    "Acronym: \"ReMove DIRectory\"\n",
    "\n",
    "Notes:\\\n",
    "Removes a directory if it's empty."
   ]
  },
  {
   "cell_type": "markdown",
   "metadata": {},
   "source": [
    "#### RM\n",
    "Syntax: `rm <directory_path>`\n",
    "\n",
    "Acronym: \"ReMove\"\n",
    "\n",
    "Notes:\\\n",
    "Removes a file or a directory.\\\n",
    "To remove a directory recursively, with only empty directories inside, use the flag `-r` &rarr; `rm -r <my_directory>`.\\\n",
    "To remove a directory recursively, with actual content inside, use the flag `-f` &rarr; `rm -rf <my_directory>`, be very cautios when running this command, since once the data is deleted is gone forever."
   ]
  },
  {
   "cell_type": "markdown",
   "metadata": {},
   "source": [
    "### Special command components"
   ]
  },
  {
   "cell_type": "markdown",
   "metadata": {},
   "source": [
    "#### $?\n",
    "This component stores the return status (success/error code) of the last runned command."
   ]
  },
  {
   "cell_type": "markdown",
   "metadata": {},
   "source": [
    "#### |\n",
    "\n",
    "Syntax: `<command_1> | <command_2>`\\\n",
    "The pipe operator (`|`), is used to control the data flow between commands.\\\n",
    "In particular, it redirects the output of the first command to the second one."
   ]
  },
  {
   "cell_type": "markdown",
   "metadata": {},
   "source": [
    "#### ``\n",
    "\n",
    "Syntax: ```<command`<nested_command>`>```\\\n",
    "The backtick (``` ` ```) can be used to nest the output of a command inside another.\n",
    "\n",
    "**Example:**\\\n",
    "```ls `pwd` ```"
   ]
  },
  {
   "cell_type": "markdown",
   "metadata": {},
   "source": [
    "#### $()\n",
    "\n",
    "Syntax: `<command$(<nested_command>)>`\\\n",
    "This syntax (`$()`) can be used to nest the output of a command inside another.\\\n",
    "Altough the syntax is different, it's actually servers the same exact purpose as the backticks.\n",
    "\n",
    "**Example:**\\\n",
    "`ls $(pwd) `"
   ]
  },
  {
   "cell_type": "markdown",
   "metadata": {},
   "source": [
    "# Utilities\n",
    "This section is a collection of useful files containing practical help for different purposes"
   ]
  },
  {
   "cell_type": "markdown",
   "metadata": {},
   "source": [
    "## C++ Snippets (VS code format)"
   ]
  },
  {
   "cell_type": "code",
   "execution_count": null,
   "metadata": {
    "vscode": {
     "languageId": "json"
    }
   },
   "outputs": [],
   "source": [
    "{\n",
    "    \"The template for the basic C++ program\": {\n",
    "        \"prefix\": \"cpp\",\n",
    "        \"body\": [\n",
    "            \"#include <iostream>\",\n",
    "            \"\",\n",
    "            \"int main()\",\n",
    "            \"{\",\n",
    "            \"\\t$0\",\n",
    "            \"\\treturn 0;\",\n",
    "            \"}\"\n",
    "        ],\n",
    "        \"description\": \"The template for the basic C++ program\"\n",
    "    },\n",
    "\n",
    "    \"Output a string to the standard output\": {\n",
    "        \"context\": \"cpp\",\n",
    "        \"prefix\": \"cout\",\n",
    "        \"body\": [\n",
    "            \"std::cout << \\\"${1:message}\\\" << std::endl;\",\n",
    "            \"$0\"\n",
    "        ],\n",
    "        \"description\": \"Output a string to the standard output\"\n",
    "    },\n",
    "\n",
    "    \"Reads a stream of data from the standard input\": {\n",
    "        \"context\": \"cpp\",\n",
    "        \"prefix\": \"cin\",\n",
    "        \"body\": [\n",
    "            \"std::cin >> ${1:variable};\",\n",
    "            \"$0\"\n",
    "        ],\n",
    "        \"description\": \"Reads a stream of data from the standard input\"\n",
    "    }\n",
    "}"
   ]
  },
  {
   "cell_type": "markdown",
   "metadata": {
    "vscode": {
     "languageId": "json"
    }
   },
   "source": [
    "# Exercises"
   ]
  },
  {
   "cell_type": "code",
   "execution_count": null,
   "metadata": {
    "vscode": {
     "languageId": "cpp"
    }
   },
   "outputs": [],
   "source": [
    "/**\n",
    "* CIRCLE CALCULATOR\n",
    "* Given as input the radius of a circle, calculate it's area and circumference.\n",
    "*/\n",
    "\n",
    "#include <iostream>\n",
    "\n",
    "int main() {\n",
    "    const float PI = 3.1415926;\n",
    "    float radius;\n",
    "    std::cout << \"Enter the radius of a circle\" << std::endl;\n",
    "    std::cin >> radius;\n",
    "\n",
    "    float area = PI * (radius * radius);\n",
    "    float circumference = 2 * PI * radius;\n",
    "    std::cout << \"Circumference:\" << std::endl;\n",
    "    std::cout << \"    Radius: \" << radius << std::endl;\n",
    "    std::cout << \"    Circumference: \" << circumference << std::endl;\n",
    "    std::cout << \"    Area: \" << area << std::endl;\n",
    "\n",
    "    return 0;\n",
    "}"
   ]
  },
  {
   "cell_type": "code",
   "execution_count": null,
   "metadata": {
    "vscode": {
     "languageId": "cpp"
    }
   },
   "outputs": [],
   "source": [
    "/**\n",
    "* FARENHEIT TO CELSIUS CALCULATOR\n",
    "* Given as input a temperature in Farenheit, calculate it's equivalent in Celsius.\n",
    "*/\n",
    "\n",
    "#include <iostream>\n",
    "\n",
    "int main() {\n",
    "    float farenheit;\n",
    "    float celsius;\n",
    "\n",
    "    std::cout << \"Inser the temperature in Fahrenheit degrees:\" << std::endl;\n",
    "    std::cin >> farenheit;\n",
    "\n",
    "    celsius= (farenheit - 32) * 5/9;\n",
    "    std::cout << \"Temperature in Celsius: \" << celsius << std::endl;\n",
    "\n",
    "    return 0;\n",
    "}"
   ]
  },
  {
   "cell_type": "code",
   "execution_count": null,
   "metadata": {
    "vscode": {
     "languageId": "cpp"
    }
   },
   "outputs": [],
   "source": [
    "/**\n",
    "* TOLOWERCASE CONVERTER\n",
    "* Given as input a letter in uppercase, convert it to lowercase.\n",
    "*/\n",
    "\n",
    "#include <iostream>\n",
    "\n",
    "bool isLetter(char c) {\n",
    "    int letterASCIIIndex= (int)c;\n",
    "\n",
    "    return ((int)'a'< letterASCIIIndex && letterASCIIIndex < (int)'z') && (((int)'A'< letterASCIIIndex && letterASCIIIndex < (int)'Z'));\n",
    "}\n",
    "\n",
    "char toLowerCase(char c){\n",
    "    if (isLetter(c)) {\n",
    "        return (char)((int)c + 32);\n",
    "    } else {\n",
    "        throw std::invalid_argument(\"The input value is not a letter\");\n",
    "    }\n",
    "}\n",
    "\n",
    "int main() {\n",
    "    char letter;\n",
    "    std::cout << \"Enter a letter in uppercase:\" << std::endl;\n",
    "    std::cin >> letter;\n",
    "    std::cout << \"The letter in uppercase: \" << toUpperCase(letter) << std::endl;\n",
    "\n",
    "    return 0;\n",
    "}"
   ]
  },
  {
   "cell_type": "code",
   "execution_count": null,
   "metadata": {
    "vscode": {
     "languageId": "cpp"
    }
   },
   "outputs": [],
   "source": [
    "/**\n",
    "* TOUPPERCASE CONVERTER\n",
    "* Given as input a letter in lowercase, convert it to uppercase.\n",
    "*/\n",
    "\n",
    "#include <iostream>\n",
    "\n",
    "bool isLetter(char c) {\n",
    "    int letterASCIIIndex= (int)c;\n",
    "\n",
    "    return ((int)'a'< letterASCIIIndex && letterASCIIIndex < (int)'z') && (((int)'A'< letterASCIIIndex && letterASCIIIndex < (int)'Z'));\n",
    "}\n",
    "\n",
    "char toUpperCase(char c){\n",
    "    if (isLetter(c)) {\n",
    "        return (char)((int)c - 32);\n",
    "    } else {\n",
    "        throw std::invalid_argument(\"The input value is not a letter\");\n",
    "    }\n",
    "}\n",
    "\n",
    "int main() {\n",
    "    char letter;\n",
    "    std::cout << \"Enter a letter in lowercase:\" << std::endl;\n",
    "    std::cin >> letter;\n",
    "    std::cout << \"The letter in Uppercase is: \" << toUpperCase(letter) << std::endl;\n",
    "\n",
    "    return 0;\n",
    "}"
   ]
  },
  {
   "cell_type": "code",
   "execution_count": null,
   "metadata": {
    "vscode": {
     "languageId": "cpp"
    }
   },
   "outputs": [],
   "source": [
    "/**\n",
    "* LOWERCASE-UPPERCASE SWITCHER\n",
    "* Given as input a character, return the uppercase version of it if it's lowercase and viceversa.\n",
    "* If statements are banned.\n",
    "*/\n",
    "\n",
    "#include <iostream>\n",
    "\n",
    "char lowercaseUppercaseSwitcher(char c){\n",
    "    int switchedCharCode= (int) c ^ 32;\n",
    "    return (char)switchedCharCode;\n",
    "}\n",
    "\n",
    "int main() {\n",
    "    char letter;\n",
    "    std::cout << \"Insert letter to switch between lower and upper case:\" << std::endl;\n",
    "    std::cin >> letter;\n",
    "    std::cout << \"Your modified letter is: \" << lowercaseUppercaseSwitcher(letter) << std::endl;\n",
    "\n",
    "    return 0;\n",
    "}"
   ]
  }
 ],
 "metadata": {
  "kernelspec": {
   "display_name": "Python 3",
   "language": "python",
   "name": "python3"
  },
  "language_info": {
   "name": "python",
   "version": "3.11.7"
  }
 },
 "nbformat": 4,
 "nbformat_minor": 2
}
