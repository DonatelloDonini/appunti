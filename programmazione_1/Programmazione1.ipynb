{
 "cells": [
  {
   "cell_type": "markdown",
   "metadata": {},
   "source": [
    "# Programmazione 1"
   ]
  },
  {
   "cell_type": "markdown",
   "metadata": {},
   "source": [
    "## Compilare un file"
   ]
  },
  {
   "cell_type": "markdown",
   "metadata": {},
   "source": [
    "Assumendo di avere già a disposizione un file da compilare.\\\n",
    "Per compilare un file, eseguire il comando `g++ <nome_file>`.\\\n",
    "Questo metodo funziona, ma non è il metodo più ottimale per compilare codice sorgente in codice macchina... nella vita reale, esistono dei file di configurazione più complessi che vengono utilizzati per dire al compilatore cosa fare."
   ]
  },
  {
   "cell_type": "markdown",
   "metadata": {},
   "source": [
    "## Template di un file C++"
   ]
  },
  {
   "cell_type": "code",
   "execution_count": null,
   "metadata": {
    "vscode": {
     "languageId": "cpp"
    }
   },
   "outputs": [],
   "source": [
    "using namespace std;\n",
    "\n",
    "#include <iostream>\n",
    "\n",
    "int main() {\n",
    "    return 0;\n",
    "}"
   ]
  },
  {
   "cell_type": "markdown",
   "metadata": {},
   "source": [
    "## Language specifications"
   ]
  },
  {
   "cell_type": "markdown",
   "metadata": {
    "vscode": {
     "languageId": "plaintext"
    }
   },
   "source": [
    "### Namespace\n",
    "Il `namespace` sta ad indicare il contesto delle funzioni che vengono chiamate.\n",
    "\n",
    "Fare:\n",
    "```\n",
    "using namespace std;\n",
    "\n",
    "#include <iostream>\n",
    "\n",
    "int main() {\n",
    "  return 0;\n",
    "}\n",
    "```\n",
    "\n",
    "è uguale a fare:\n",
    "```\n",
    "#include <iostream>\n",
    "\n",
    "int main() {\n",
    "  std::cout << \"Hello, World!\" << endl;\n",
    "  return 0;\n",
    "}\n",
    "```\n",
    "\n",
    "La seconda opzione (quella in cui si specifica il namespacae ad ogni chiamata di funzione) rende il codice più pulito, perché così facendo si evitano conflitti con altri namespace"
   ]
  },
  {
   "cell_type": "markdown",
   "metadata": {},
   "source": [
    "### Spaziatura\n",
    "\n",
    "- Spazi normali\n",
    "- Tabluazioni\n",
    "- Nuova riga"
   ]
  },
  {
   "cell_type": "markdown",
   "metadata": {},
   "source": [
    "### Commenti"
   ]
  },
  {
   "cell_type": "markdown",
   "metadata": {
    "vscode": {
     "languageId": "cpp"
    }
   },
   "source": [
    "**Commenti in riga:** ottenuti aggiungendo del testo su una riga sola dopo i caratteri `//`."
   ]
  },
  {
   "cell_type": "code",
   "execution_count": null,
   "metadata": {
    "vscode": {
     "languageId": "cpp"
    }
   },
   "outputs": [],
   "source": [
    "using namespace std;\n",
    "\n",
    "#include <iostream>\n",
    "\n",
    "int main() {\n",
    "    // Questo è un commento in riga. (se andassi a capo, il compilatore interpretarebbe il testo successivo come codice)\n",
    "    return 0;\n",
    "}"
   ]
  },
  {
   "cell_type": "markdown",
   "metadata": {},
   "source": [
    "**Blocchi di commenti:** ottenuto aggiungendo del testo tra `/*` e `*/` (utilizzati generalmente per blocchi di commenti)."
   ]
  },
  {
   "cell_type": "code",
   "execution_count": null,
   "metadata": {
    "vscode": {
     "languageId": "cpp"
    }
   },
   "outputs": [],
   "source": [
    "using namespace std;\n",
    "\n",
    "#include <iostream>\n",
    "\n",
    "int main() {\n",
    "    /* Esempio (questo codice verra ignorato dal compilatore) */\n",
    "    return 0;\n",
    "}"
   ]
  },
  {
   "cell_type": "markdown",
   "metadata": {},
   "source": [
    "### Tabella delle parole chiave di C++\n",
    "\n",
    "| Parola chiave   | Descrizione                                                                 |\n",
    "|:-|:-|\n",
    "| `int`     | Definisce una variabile intera.                                              |\n",
    "| `float`   | Definisce una variabile a virgola mobile.                                    |\n",
    "| `double`  | Definisce una variabile a doppia precisione a virgola mobile.                |\n",
    "| `char`    | Definisce una variabile carattere.                                           |\n",
    "| `bool`    | Definisce una variabile booleana (vero o falso).                             |\n",
    "| `void`    | Specifica che una funzione non restituisce un valore.                        |\n",
    "| `if`      | Inizia una dichiarazione condizionale.                                       |\n",
    "| `else`    | Specifica il blocco di codice da eseguire se la condizione `if` è falsa.     |\n",
    "| `for`     | Inizia un ciclo for.                                                         |\n",
    "| `while`   | Inizia un ciclo while.                                                       |\n",
    "| `do`      | Inizia un ciclo do-while.                                                    |\n",
    "| `return`  | Esce da una funzione e opzionalmente restituisce un valore.                  |\n",
    "| `switch`  | Inizia una dichiarazione switch per più rami condizionali.                   |\n",
    "| `case`    | Definisce un ramo in una dichiarazione switch.                               |\n",
    "| `default` | Specifica il ramo predefinito in una dichiarazione switch.                   |\n",
    "| `break`   | Esce da un ciclo o da una dichiarazione switch.                              |\n",
    "| `continue`| Salta l'iterazione corrente di un ciclo e procede alla successiva.           |\n",
    "| `class`   | Definisce una classe.                                                        |\n",
    "| `struct`  | Definisce una struttura.                                                     |\n",
    "| `public`  | Specifica il controllo di accesso pubblico per i membri della classe.        |\n",
    "| `private` | Specifica il controllo di accesso privato per i membri della classe.         |\n",
    "| `protected`| Specifica il controllo di accesso protetto per i membri della classe.       |\n",
    "| `namespace`| Definisce un ambito per identificatori per evitare conflitti di nomi.       |\n",
    "| `using`   | Importa un namespace o un identificatore specifico da un namespace.          |\n",
    "| `new`     | Alloca memoria dinamicamente.                                                |\n",
    "| `delete`  | Dealloca memoria che è stata allocata dinamicamente.                         |\n",
    "| `try`     | Inizia un blocco di codice che verrà testato per eccezioni.                  |\n",
    "| `catch`   | Definisce un blocco di codice per gestire le eccezioni.                      |\n",
    "| `throw`   | Lancia un'eccezione.                                                         |"
   ]
  },
  {
   "cell_type": "markdown",
   "metadata": {},
   "source": [
    "### Case sensitivity"
   ]
  },
  {
   "cell_type": "markdown",
   "metadata": {},
   "source": [
    "C++ è case sensitive"
   ]
  },
  {
   "cell_type": "markdown",
   "metadata": {
    "vscode": {
     "languageId": "plaintext"
    }
   },
   "source": [
    "## Leggere da un file"
   ]
  },
  {
   "cell_type": "markdown",
   "metadata": {},
   "source": [
    "## Scrivere in un file"
   ]
  }
 ],
 "metadata": {
  "language_info": {
   "name": "python"
  }
 },
 "nbformat": 4,
 "nbformat_minor": 2
}
